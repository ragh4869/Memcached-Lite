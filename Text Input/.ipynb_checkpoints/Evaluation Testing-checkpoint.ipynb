{
 "cells": [
  {
   "cell_type": "code",
   "execution_count": 1,
   "metadata": {},
   "outputs": [],
   "source": [
    "# Packages\n",
    "\n",
    "import os\n",
    "import time\n",
    "import numpy as np\n",
    "from concurrent.futures import ThreadPoolExecutor"
   ]
  },
  {
   "cell_type": "code",
   "execution_count": 2,
   "metadata": {},
   "outputs": [],
   "source": [
    "# Defining function to run the client script\n",
    "\n",
    "def run_file(req):\n",
    "    start = time.time()\n",
    "    results = os.system(\"python client.py\")\n",
    "    end = time.time()\n",
    "    return end-start"
   ]
  },
  {
   "cell_type": "code",
   "execution_count": 3,
   "metadata": {},
   "outputs": [],
   "source": [
    "# Defining function to execute the client script n number of times\n",
    "\n",
    "def run_executor(n):\n",
    "    time_per_task = []\n",
    "    no_of_requests = list(range(1,n+1))\n",
    "    with ThreadPoolExecutor() as exec:\n",
    "        begin = time.time()\n",
    "        res = exec.map(run_file,no_of_requests)\n",
    "        for t in res:\n",
    "            time_per_task.append(t)\n",
    "        end = time.time()\n",
    "        total_time = end - begin\n",
    "    return time_per_task, total_time"
   ]
  },
  {
   "cell_type": "markdown",
   "metadata": {},
   "source": [
    "**Using Thread**"
   ]
  },
  {
   "cell_type": "code",
   "execution_count": 4,
   "metadata": {},
   "outputs": [
    {
     "name": "stdout",
     "output_type": "stream",
     "text": [
      "Number of task requests: 1000\n",
      "Total Time for task completion using Thread: 124.43747067451477\n",
      "Average time taken for task using Thread: 0.9936146318912507\n"
     ]
    }
   ],
   "source": [
    "time_per_task, total_time = run_executor(1000)\n",
    "\n",
    "print(f'Number of task requests: {len(time_per_task)}')\n",
    "print(f'Total Time for task completion using Thread: {total_time}')\n",
    "print(f'Average time taken for task using Thread: {np.mean(time_per_task)}')"
   ]
  },
  {
   "cell_type": "code",
   "execution_count": 5,
   "metadata": {},
   "outputs": [
    {
     "name": "stdout",
     "output_type": "stream",
     "text": [
      "Number of task requests: 10000\n",
      "Total Time for task completion using Thread: 1080.2859859466553\n",
      "Average time taken for task using Thread: 0.863870521402359\n"
     ]
    }
   ],
   "source": [
    "time_per_task, total_time = run_executor(10000)\n",
    "\n",
    "print(f'Number of task requests: {len(time_per_task)}')\n",
    "print(f'Total Time for task completion using Thread: {total_time}')\n",
    "print(f'Average time taken for task using Thread: {np.mean(time_per_task)}')"
   ]
  },
  {
   "cell_type": "markdown",
   "metadata": {},
   "source": [
    "**Using Process**"
   ]
  },
  {
   "cell_type": "code",
   "execution_count": 6,
   "metadata": {},
   "outputs": [
    {
     "name": "stdout",
     "output_type": "stream",
     "text": [
      "Number of task requests: 1000\n",
      "Total Time for task completion using Process: 659.8921627998352\n",
      "Average time taken for task using Process: 5.270402276754379\n"
     ]
    }
   ],
   "source": [
    "time_per_task, total_time = run_executor(1000)\n",
    "\n",
    "print(f'Number of task requests: {len(time_per_task)}')\n",
    "print(f'Total Time for task completion using Process: {total_time}')\n",
    "print(f'Average time taken for task using Process: {np.mean(time_per_task)}')"
   ]
  },
  {
   "cell_type": "code",
   "execution_count": 8,
   "metadata": {},
   "outputs": [
    {
     "name": "stdout",
     "output_type": "stream",
     "text": [
      "Number of task requests: 1000\n",
      "Total Time for task completion using Process: Took too much time(>1hr) and thus stopped execution\n",
      "Average time taken for task using Process: Took too much time(>1hr) and thus stopped execution\n"
     ]
    }
   ],
   "source": [
    "# time_per_task, total_time = run_executor(10000)\n",
    "\n",
    "print(f'Number of task requests: {len(time_per_task)}')\n",
    "print(f'Total Time for task completion using Process: Took too much time(>1hr) and thus stopped execution')\n",
    "print(f'Average time taken for task using Process: Took too much time(>1hr) and thus stopped execution')"
   ]
  },
  {
   "cell_type": "markdown",
   "metadata": {},
   "source": [
    "**Check the capacity of server to hold concurrent clients**"
   ]
  },
  {
   "cell_type": "code",
   "execution_count": 3,
   "metadata": {},
   "outputs": [],
   "source": [
    "# Defining function to execute the client script n number of times and setting max_workers = nn\n",
    "\n",
    "def run_executor_nn(n, nn):\n",
    "    time_per_task = []\n",
    "    no_of_requests = list(range(1,n+1))\n",
    "    with ThreadPoolExecutor(max_workers = nn) as exec:\n",
    "        begin = time.time()\n",
    "        res = exec.map(run_file,no_of_requests)\n",
    "        for t in res:\n",
    "            time_per_task.append(t)\n",
    "        end = time.time()\n",
    "        total_time = end - begin\n",
    "    return time_per_task, total_time"
   ]
  },
  {
   "cell_type": "code",
   "execution_count": 11,
   "metadata": {},
   "outputs": [
    {
     "name": "stdout",
     "output_type": "stream",
     "text": [
      "Number of task requests: 1000\n",
      "Total Time for task completion using Thread: 105.16732811927795\n",
      "Average time taken for task using Thread: 10.186023723125457\n"
     ]
    }
   ],
   "source": [
    "time_per_task, total_time = run_executor_nn(1000, 100)\n",
    "\n",
    "print(f'Number of task requests: {len(time_per_task)}')\n",
    "print(f'Total Time for task completion using Thread: {total_time}')\n",
    "print(f'Average time taken for task using Thread: {np.mean(time_per_task)}')"
   ]
  },
  {
   "cell_type": "code",
   "execution_count": 8,
   "metadata": {},
   "outputs": [
    {
     "name": "stdout",
     "output_type": "stream",
     "text": [
      "Number of task requests: 1000\n",
      "Total Time for task completion using Thread: Started hanging and server crashed, thus, stopped execution\n",
      "Average time taken for task using Thread: Started hanging and server crashed, thus, stopped execution\n"
     ]
    }
   ],
   "source": [
    "time_per_task, total_time = run_executor_nn(1000, 200)\n",
    "\n",
    "print(f'Number of task requests: 1000')\n",
    "print(f'Total Time for task completion using Thread: Started hanging and server crashed, thus, stopped execution')\n",
    "print(f'Average time taken for task using Thread: Started hanging and server crashed, thus, stopped execution')"
   ]
  },
  {
   "cell_type": "code",
   "execution_count": 9,
   "metadata": {},
   "outputs": [
    {
     "name": "stdout",
     "output_type": "stream",
     "text": [
      "Number of task requests: 1000\n",
      "Total Time for task completion using Thread: Started hanging and server crashed, thus, stopped execution\n",
      "Average time taken for task using Thread: Started hanging and server crashed, thus, stopped execution\n"
     ]
    }
   ],
   "source": [
    "time_per_task, total_time = run_executor_nn(1000, 500)\n",
    "\n",
    "print(f'Number of task requests: 1000')\n",
    "print(f'Total Time for task completion using Thread: Started hanging and server crashed, thus, stopped execution')\n",
    "print(f'Average time taken for task using Thread: Started hanging and server crashed, thus, stopped execution')"
   ]
  }
 ],
 "metadata": {
  "kernelspec": {
   "display_name": "Python 3",
   "language": "python",
   "name": "python3"
  },
  "language_info": {
   "codemirror_mode": {
    "name": "ipython",
    "version": 3
   },
   "file_extension": ".py",
   "mimetype": "text/x-python",
   "name": "python",
   "nbconvert_exporter": "python",
   "pygments_lexer": "ipython3",
   "version": "3.8.5"
  }
 },
 "nbformat": 4,
 "nbformat_minor": 4
}
